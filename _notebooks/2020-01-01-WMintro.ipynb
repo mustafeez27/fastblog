{
 "cells": [
  {
   "cell_type": "markdown",
   "metadata": {},
   "source": [
    "# Ahh! bears everywhere\n",
    "> A look at bear classification\n",
    "\n",
    "- toc: true \n",
    "- badges: true\n",
    "- comments: true\n",
    "- sticky_rank: 1\n",
    "- author: Waqas Mustafeez\n",
    "- categories: [resnet, classification, transfer learning]"
   ]
  },
 {
   "cell_type": "markdown",
   "metadata": {},
   "source": [
    "This is a pretrained model for bear classification availble on my git. try it out, the code and all references are valid for the repo.\n",
   ]
  },
  {
   "cell_type": "code",
   "execution_count": null,
   "metadata": {},
   "outputs": [],
   "source": [
    "#collapse-show\n",
    "from fastbook import *\n",
    "from fastai.vision.widgets import *\n",
    "path = Path()\n",
    "path.ls(file_exts='.pkl')\n",
    "learn_inf = load_learner(path/'export.pkl') #load an exported model and architecture\n",
    "learn_inf.predict('grizzly.jpg')\n",
    "btn_upload = SimpleNamespace(data = ['grizzly.jpg'])\n",
    "img = PILImage.create(btn_upload.data[-1])\n",
    "pred,pred_idx,probs = learn_inf.predict(img)\n",
    "lbl_pred = widgets.Label()\n",
    "lbl_pred\n",
    "\n",
    "out_pl = widgets.Output()\n",
    "out_pl.clear_output()\n",
    "with out_pl: display(img.to_thumb(128,128))\n",
    "btn_run = widgets.Button(description='Classify')\n",
    "def on_click_classify(change):\n",
    "    img = PILImage.create(btn_upload.data[-1])\n",
    "    out_pl.clear_output()\n",
    "    img\n",
    "    if img !=null: \n",
    "        with out_pl: display(img.to_thumb(128,128))\n",
    "        pred,pred_idx,probs = learn_inf.predict(img)\n",
    "        lbl_pred.value = f'Prediction: {pred}; Probability: {probs[pred_idx]:.04f}'\n",
    "\n",
    "btn_run.on_click(on_click_classify)\n",
    "#Putting back btn_upload to a widget for next cell\n",
    "btn_upload = widgets.FileUpload()\n",
    "#hide_output\n",
    "VBox([widgets.Label('Select your bear to catagerize!'), \n",
    "      btn_upload, btn_run, out_pl, lbl_pred])"
   ]
  },
  {
   "cell_type": "markdown",
   "metadata": {},
   "source": []
  }
 ],
 "metadata": {
  "kernelspec": {
   "display_name": "Python 3",
   "language": "python",
   "name": "python3"
  },
  "language_info": {
   "codemirror_mode": {
    "name": "ipython",
    "version": 3
   },
   "file_extension": ".py",
   "mimetype": "text/x-python",
   "name": "python",
   "nbconvert_exporter": "python",
   "pygments_lexer": "ipython3",
   "version": "3.8.6"
  }
 },
 "nbformat": 4,
 "nbformat_minor": 4
}
