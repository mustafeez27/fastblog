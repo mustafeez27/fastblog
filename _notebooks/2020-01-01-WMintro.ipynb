{
 "cells": [
  {
   "cell_type": "markdown",
   "metadata": {},
   "source": [
    "# Ahh! bears everywhere\n",
    "> A look at bear classification\n",
    "\n",
    "- toc: true \n",
    "- badges: true\n",
    "- comments: true\n",
    "- sticky_rank: 1\n",
    "- author: Waqas Mustafeez\n",
    "- categories: [resnet, classification, transfer learning]"
   ]
  },
 {
   "cell_type": "markdown",
   "metadata": {},
   "source": [
    "This is a pretrained model for bear classification availble on my git. try it out, the code and all references are valid for the repo.\n",
   ]
  }
 ],
 "metadata": {
  "kernelspec": {
   "display_name": "Python 3",
   "language": "python",
   "name": "python3"
  },
  "language_info": {
   "codemirror_mode": {
    "name": "ipython",
    "version": 3
   },
   "file_extension": ".py",
   "mimetype": "text/x-python",
   "name": "python",
   "nbconvert_exporter": "python",
   "pygments_lexer": "ipython3",
   "version": "3.8.6"
  }
 },
 "nbformat": 4,
 "nbformat_minor": 4
}
